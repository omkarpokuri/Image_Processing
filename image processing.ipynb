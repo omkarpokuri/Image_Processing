{
 "cells": [
  {
   "cell_type": "code",
   "execution_count": 13,
   "id": "211b6392",
   "metadata": {},
   "outputs": [],
   "source": [
    "TrainingImagePath=\"C:/Users/Omkar/Train\""
   ]
  },
  {
   "cell_type": "code",
   "execution_count": 2,
   "id": "d73e1ad6",
   "metadata": {},
   "outputs": [],
   "source": [
    "validationImagePath = \"C:/Users/Omkar/Validation\""
   ]
  },
  {
   "cell_type": "code",
   "execution_count": 3,
   "id": "b97dad90",
   "metadata": {
    "scrolled": true
   },
   "outputs": [
    {
     "name": "stdout",
     "output_type": "stream",
     "text": [
      "Requirement already satisfied: keras in c:\\users\\omkar\\anaconda3\\lib\\site-packages (2.9.0)\n",
      "Note: you may need to restart the kernel to use updated packages.\n"
     ]
    }
   ],
   "source": [
    "pip install keras"
   ]
  },
  {
   "cell_type": "code",
   "execution_count": 5,
   "id": "1d0239bd",
   "metadata": {},
   "outputs": [
    {
     "name": "stdout",
     "output_type": "stream",
     "text": [
      "Collecting tensorflow\n",
      "  Downloading tensorflow-2.9.1-cp39-cp39-win_amd64.whl (444.0 MB)\n",
      "Requirement already satisfied: six>=1.12.0 in c:\\users\\omkar\\anaconda3\\lib\\site-packages (from tensorflow) (1.16.0)\n",
      "Collecting absl-py>=1.0.0\n",
      "  Downloading absl_py-1.2.0-py3-none-any.whl (123 kB)\n",
      "Collecting google-pasta>=0.1.1\n",
      "  Downloading google_pasta-0.2.0-py3-none-any.whl (57 kB)\n",
      "Collecting flatbuffers<2,>=1.12\n",
      "  Downloading flatbuffers-1.12-py2.py3-none-any.whl (15 kB)\n",
      "Collecting termcolor>=1.1.0\n",
      "  Downloading termcolor-1.1.0.tar.gz (3.9 kB)\n",
      "Requirement already satisfied: setuptools in c:\\users\\omkar\\anaconda3\\lib\\site-packages (from tensorflow) (58.0.4)\n",
      "Collecting tensorboard<2.10,>=2.9\n",
      "  Downloading tensorboard-2.9.1-py3-none-any.whl (5.8 MB)\n",
      "Requirement already satisfied: typing-extensions>=3.6.6 in c:\\users\\omkar\\anaconda3\\lib\\site-packages (from tensorflow) (3.10.0.2)\n",
      "Collecting tensorflow-estimator<2.10.0,>=2.9.0rc0\n",
      "  Downloading tensorflow_estimator-2.9.0-py2.py3-none-any.whl (438 kB)\n",
      "Collecting keras-preprocessing>=1.1.1\n",
      "  Downloading Keras_Preprocessing-1.1.2-py2.py3-none-any.whl (42 kB)\n",
      "Collecting astunparse>=1.6.0\n",
      "  Downloading astunparse-1.6.3-py2.py3-none-any.whl (12 kB)\n",
      "Requirement already satisfied: wrapt>=1.11.0 in c:\\users\\omkar\\anaconda3\\lib\\site-packages (from tensorflow) (1.12.1)\n",
      "Requirement already satisfied: keras<2.10.0,>=2.9.0rc0 in c:\\users\\omkar\\anaconda3\\lib\\site-packages (from tensorflow) (2.9.0)\n",
      "Requirement already satisfied: h5py>=2.9.0 in c:\\users\\omkar\\anaconda3\\lib\\site-packages (from tensorflow) (3.2.1)\n",
      "Collecting libclang>=13.0.0\n",
      "  Downloading libclang-14.0.1-py2.py3-none-win_amd64.whl (14.2 MB)\n",
      "Requirement already satisfied: numpy>=1.20 in c:\\users\\omkar\\anaconda3\\lib\\site-packages (from tensorflow) (1.20.3)\n",
      "Collecting protobuf<3.20,>=3.9.2\n",
      "  Downloading protobuf-3.19.4-cp39-cp39-win_amd64.whl (895 kB)\n",
      "Collecting tensorflow-io-gcs-filesystem>=0.23.1\n",
      "  Downloading tensorflow_io_gcs_filesystem-0.26.0-cp39-cp39-win_amd64.whl (1.5 MB)\n",
      "Collecting grpcio<2.0,>=1.24.3\n",
      "  Downloading grpcio-1.47.0-cp39-cp39-win_amd64.whl (3.6 MB)\n",
      "Collecting opt-einsum>=2.3.2\n",
      "  Downloading opt_einsum-3.3.0-py3-none-any.whl (65 kB)\n",
      "Collecting gast<=0.4.0,>=0.2.1\n",
      "  Downloading gast-0.4.0-py3-none-any.whl (9.8 kB)\n",
      "Requirement already satisfied: packaging in c:\\users\\omkar\\anaconda3\\lib\\site-packages (from tensorflow) (21.0)\n",
      "Requirement already satisfied: wheel<1.0,>=0.23.0 in c:\\users\\omkar\\anaconda3\\lib\\site-packages (from astunparse>=1.6.0->tensorflow) (0.37.0)\n",
      "Requirement already satisfied: werkzeug>=1.0.1 in c:\\users\\omkar\\anaconda3\\lib\\site-packages (from tensorboard<2.10,>=2.9->tensorflow) (2.0.2)\n",
      "Collecting markdown>=2.6.8\n",
      "  Downloading Markdown-3.4.1-py3-none-any.whl (93 kB)\n",
      "Collecting tensorboard-plugin-wit>=1.6.0\n",
      "  Downloading tensorboard_plugin_wit-1.8.1-py3-none-any.whl (781 kB)\n",
      "Collecting google-auth-oauthlib<0.5,>=0.4.1\n",
      "  Downloading google_auth_oauthlib-0.4.6-py2.py3-none-any.whl (18 kB)\n",
      "Collecting google-auth<3,>=1.6.3\n",
      "  Downloading google_auth-2.9.1-py2.py3-none-any.whl (167 kB)\n",
      "Requirement already satisfied: requests<3,>=2.21.0 in c:\\users\\omkar\\anaconda3\\lib\\site-packages (from tensorboard<2.10,>=2.9->tensorflow) (2.26.0)\n",
      "Collecting tensorboard-data-server<0.7.0,>=0.6.0\n",
      "  Downloading tensorboard_data_server-0.6.1-py3-none-any.whl (2.4 kB)\n",
      "Collecting pyasn1-modules>=0.2.1\n",
      "  Downloading pyasn1_modules-0.2.8-py2.py3-none-any.whl (155 kB)\n",
      "Collecting cachetools<6.0,>=2.0.0\n",
      "  Downloading cachetools-5.2.0-py3-none-any.whl (9.3 kB)\n",
      "Collecting rsa<5,>=3.1.4\n",
      "  Downloading rsa-4.9-py3-none-any.whl (34 kB)\n",
      "Collecting requests-oauthlib>=0.7.0\n",
      "  Downloading requests_oauthlib-1.3.1-py2.py3-none-any.whl (23 kB)\n",
      "Requirement already satisfied: importlib-metadata>=4.4 in c:\\users\\omkar\\anaconda3\\lib\\site-packages (from markdown>=2.6.8->tensorboard<2.10,>=2.9->tensorflow) (4.8.1)\n",
      "Requirement already satisfied: zipp>=0.5 in c:\\users\\omkar\\anaconda3\\lib\\site-packages (from importlib-metadata>=4.4->markdown>=2.6.8->tensorboard<2.10,>=2.9->tensorflow) (3.6.0)\n",
      "Collecting pyasn1<0.5.0,>=0.4.6\n",
      "  Downloading pyasn1-0.4.8-py2.py3-none-any.whl (77 kB)\n",
      "Requirement already satisfied: charset-normalizer~=2.0.0 in c:\\users\\omkar\\anaconda3\\lib\\site-packages (from requests<3,>=2.21.0->tensorboard<2.10,>=2.9->tensorflow) (2.0.4)\n",
      "Requirement already satisfied: certifi>=2017.4.17 in c:\\users\\omkar\\anaconda3\\lib\\site-packages (from requests<3,>=2.21.0->tensorboard<2.10,>=2.9->tensorflow) (2021.10.8)\n",
      "Requirement already satisfied: urllib3<1.27,>=1.21.1 in c:\\users\\omkar\\anaconda3\\lib\\site-packages (from requests<3,>=2.21.0->tensorboard<2.10,>=2.9->tensorflow) (1.26.7)\n",
      "Requirement already satisfied: idna<4,>=2.5 in c:\\users\\omkar\\anaconda3\\lib\\site-packages (from requests<3,>=2.21.0->tensorboard<2.10,>=2.9->tensorflow) (3.2)\n",
      "Collecting oauthlib>=3.0.0\n",
      "  Downloading oauthlib-3.2.0-py3-none-any.whl (151 kB)\n",
      "Requirement already satisfied: pyparsing>=2.0.2 in c:\\users\\omkar\\anaconda3\\lib\\site-packages (from packaging->tensorflow) (3.0.4)\n",
      "Building wheels for collected packages: termcolor\n",
      "  Building wheel for termcolor (setup.py): started\n",
      "  Building wheel for termcolor (setup.py): finished with status 'done'\n",
      "  Created wheel for termcolor: filename=termcolor-1.1.0-py3-none-any.whl size=4847 sha256=71c98e4efd1f72f4b8739600d472e21c5b59ab4d6578c3983d24a45ae49029f0\n",
      "  Stored in directory: c:\\users\\omkar\\appdata\\local\\pip\\cache\\wheels\\b6\\0d\\90\\0d1bbd99855f99cb2f6c2e5ff96f8023fad8ec367695f7d72d\n",
      "Successfully built termcolor\n",
      "Installing collected packages: pyasn1, rsa, pyasn1-modules, oauthlib, cachetools, requests-oauthlib, google-auth, tensorboard-plugin-wit, tensorboard-data-server, protobuf, markdown, grpcio, google-auth-oauthlib, absl-py, termcolor, tensorflow-io-gcs-filesystem, tensorflow-estimator, tensorboard, opt-einsum, libclang, keras-preprocessing, google-pasta, gast, flatbuffers, astunparse, tensorflow\n",
      "Successfully installed absl-py-1.2.0 astunparse-1.6.3 cachetools-5.2.0 flatbuffers-1.12 gast-0.4.0 google-auth-2.9.1 google-auth-oauthlib-0.4.6 google-pasta-0.2.0 grpcio-1.47.0 keras-preprocessing-1.1.2 libclang-14.0.1 markdown-3.4.1 oauthlib-3.2.0 opt-einsum-3.3.0 protobuf-3.19.4 pyasn1-0.4.8 pyasn1-modules-0.2.8 requests-oauthlib-1.3.1 rsa-4.9 tensorboard-2.9.1 tensorboard-data-server-0.6.1 tensorboard-plugin-wit-1.8.1 tensorflow-2.9.1 tensorflow-estimator-2.9.0 tensorflow-io-gcs-filesystem-0.26.0 termcolor-1.1.0\n",
      "Note: you may need to restart the kernel to use updated packages.\n"
     ]
    }
   ],
   "source": [
    "pip install tensorflow"
   ]
  },
  {
   "cell_type": "code",
   "execution_count": 6,
   "id": "0841e0f3",
   "metadata": {},
   "outputs": [],
   "source": [
    "from keras.preprocessing.image import ImageDataGenerator"
   ]
  },
  {
   "cell_type": "code",
   "execution_count": 7,
   "id": "9e983cc8",
   "metadata": {},
   "outputs": [],
   "source": [
    "train_datagen = ImageDataGenerator(rescale=1./225)"
   ]
  },
  {
   "cell_type": "code",
   "execution_count": 8,
   "id": "20bb1e04",
   "metadata": {},
   "outputs": [],
   "source": [
    "test_datagen = ImageDataGenerator(rescale=1./225)"
   ]
  },
  {
   "cell_type": "code",
   "execution_count": 14,
   "id": "2649b7a0",
   "metadata": {},
   "outputs": [
    {
     "name": "stdout",
     "output_type": "stream",
     "text": [
      "Found 139 images belonging to 11 classes.\n"
     ]
    }
   ],
   "source": [
    "training_set = train_datagen.flow_from_directory(TrainingImagePath,\n",
    "                                                 target_size=(64, 64),\n",
    "                                                 batch_size=20,\n",
    "                                                 class_mode='categorical')"
   ]
  },
  {
   "cell_type": "code",
   "execution_count": 15,
   "id": "6faf0410",
   "metadata": {},
   "outputs": [
    {
     "name": "stdout",
     "output_type": "stream",
     "text": [
      "Found 59 images belonging to 11 classes.\n"
     ]
    }
   ],
   "source": [
    "validation_set = test_datagen.flow_from_directory(validationImagePath,\n",
    "                                                  target_size=(64, 64),\n",
    "                                                  batch_size=20,\n",
    "                                                  class_mode='categorical')"
   ]
  },
  {
   "cell_type": "code",
   "execution_count": 16,
   "id": "8c80f3dd",
   "metadata": {},
   "outputs": [],
   "source": [
    "from keras.models import Sequential\n",
    "from keras.layers import Convolution2D\n",
    "from keras.layers import MaxPool2D\n",
    "from keras.layers import Flatten\n",
    "from keras.layers import Dense"
   ]
  },
  {
   "cell_type": "code",
   "execution_count": 17,
   "id": "4f1e0dd4",
   "metadata": {},
   "outputs": [],
   "source": [
    "classifier= Sequential()"
   ]
  },
  {
   "cell_type": "code",
   "execution_count": 18,
   "id": "8a205172",
   "metadata": {},
   "outputs": [],
   "source": [
    "classifier.add(Convolution2D(32, kernel_size=(3, 3),\n",
    "                             input_shape=(64,64,3), activation='relu'))"
   ]
  },
  {
   "cell_type": "code",
   "execution_count": 19,
   "id": "0f3dd055",
   "metadata": {},
   "outputs": [],
   "source": [
    "classifier.add(MaxPool2D(pool_size=(2,2)))"
   ]
  },
  {
   "cell_type": "code",
   "execution_count": 20,
   "id": "bf9965ee",
   "metadata": {},
   "outputs": [],
   "source": [
    "classifier.add(Convolution2D(64, kernel_size=(3, 3), activation='relu'))"
   ]
  },
  {
   "cell_type": "code",
   "execution_count": 21,
   "id": "dedd3a8f",
   "metadata": {},
   "outputs": [],
   "source": [
    "classifier.add(MaxPool2D(pool_size=(2,2)))"
   ]
  },
  {
   "cell_type": "code",
   "execution_count": 22,
   "id": "2d95235c",
   "metadata": {},
   "outputs": [],
   "source": [
    "classifier.add(Convolution2D(64, kernel_size=(3, 3), activation='relu'))"
   ]
  },
  {
   "cell_type": "code",
   "execution_count": 23,
   "id": "47c60c27",
   "metadata": {},
   "outputs": [],
   "source": [
    "classifier.add(Flatten()) "
   ]
  },
  {
   "cell_type": "code",
   "execution_count": 24,
   "id": "7b02a062",
   "metadata": {},
   "outputs": [],
   "source": [
    "classifier.add(Dense(64, activation='relu'))"
   ]
  },
  {
   "cell_type": "code",
   "execution_count": 25,
   "id": "f17f87d3",
   "metadata": {},
   "outputs": [],
   "source": [
    "classifier.add(Dense(11, activation='softmax'))"
   ]
  },
  {
   "cell_type": "code",
   "execution_count": 26,
   "id": "64a11d62",
   "metadata": {},
   "outputs": [
    {
     "name": "stdout",
     "output_type": "stream",
     "text": [
      "Model: \"sequential\"\n",
      "_________________________________________________________________\n",
      " Layer (type)                Output Shape              Param #   \n",
      "=================================================================\n",
      " conv2d (Conv2D)             (None, 62, 62, 32)        896       \n",
      "                                                                 \n",
      " max_pooling2d (MaxPooling2D  (None, 31, 31, 32)       0         \n",
      " )                                                               \n",
      "                                                                 \n",
      " conv2d_1 (Conv2D)           (None, 29, 29, 64)        18496     \n",
      "                                                                 \n",
      " max_pooling2d_1 (MaxPooling  (None, 14, 14, 64)       0         \n",
      " 2D)                                                             \n",
      "                                                                 \n",
      " conv2d_2 (Conv2D)           (None, 12, 12, 64)        36928     \n",
      "                                                                 \n",
      " flatten (Flatten)           (None, 9216)              0         \n",
      "                                                                 \n",
      " dense (Dense)               (None, 64)                589888    \n",
      "                                                                 \n",
      " dense_1 (Dense)             (None, 11)                715       \n",
      "                                                                 \n",
      "=================================================================\n",
      "Total params: 646,923\n",
      "Trainable params: 646,923\n",
      "Non-trainable params: 0\n",
      "_________________________________________________________________\n"
     ]
    }
   ],
   "source": [
    "classifier.summary()"
   ]
  },
  {
   "cell_type": "code",
   "execution_count": 27,
   "id": "b230758c",
   "metadata": {},
   "outputs": [],
   "source": [
    "classifier.compile(loss='categorical_crossentropy', \n",
    "                   optimizer = 'adam', metrics=[\"accuracy\"])"
   ]
  },
  {
   "cell_type": "code",
   "execution_count": 28,
   "id": "f14cc344",
   "metadata": {},
   "outputs": [
    {
     "name": "stderr",
     "output_type": "stream",
     "text": [
      "C:\\Users\\Omkar\\AppData\\Local\\Temp/ipykernel_9768/2927964305.py:1: UserWarning: `Model.fit_generator` is deprecated and will be removed in a future version. Please use `Model.fit`, which supports generators.\n",
      "  history = classifier.fit_generator(training_set, epochs=20,\n"
     ]
    },
    {
     "name": "stdout",
     "output_type": "stream",
     "text": [
      "Epoch 1/20\n",
      "7/7 [==============================] - 7s 831ms/step - loss: 2.3912 - accuracy: 0.1223 - val_loss: 2.3246 - val_accuracy: 0.1525\n",
      "Epoch 2/20\n",
      "7/7 [==============================] - 4s 580ms/step - loss: 2.2850 - accuracy: 0.1583 - val_loss: 2.2525 - val_accuracy: 0.1695\n",
      "Epoch 3/20\n",
      "7/7 [==============================] - 4s 577ms/step - loss: 2.1660 - accuracy: 0.1942 - val_loss: 2.1926 - val_accuracy: 0.1695\n",
      "Epoch 4/20\n",
      "7/7 [==============================] - 4s 575ms/step - loss: 1.9767 - accuracy: 0.3381 - val_loss: 2.0388 - val_accuracy: 0.2542\n",
      "Epoch 5/20\n",
      "7/7 [==============================] - 3s 428ms/step - loss: 1.7001 - accuracy: 0.4748 - val_loss: 2.1454 - val_accuracy: 0.2712\n",
      "Epoch 6/20\n",
      "7/7 [==============================] - 4s 576ms/step - loss: 1.4499 - accuracy: 0.5324 - val_loss: 1.9188 - val_accuracy: 0.3729\n",
      "Epoch 7/20\n",
      "7/7 [==============================] - 4s 582ms/step - loss: 1.1476 - accuracy: 0.6331 - val_loss: 1.8706 - val_accuracy: 0.3898\n",
      "Epoch 8/20\n",
      "7/7 [==============================] - 4s 581ms/step - loss: 0.9700 - accuracy: 0.7266 - val_loss: 1.5290 - val_accuracy: 0.4915\n",
      "Epoch 9/20\n",
      "7/7 [==============================] - 4s 511ms/step - loss: 0.7144 - accuracy: 0.7986 - val_loss: 1.4624 - val_accuracy: 0.5085\n",
      "Epoch 10/20\n",
      "7/7 [==============================] - 4s 564ms/step - loss: 0.3712 - accuracy: 0.8993 - val_loss: 1.6281 - val_accuracy: 0.4576\n",
      "Epoch 11/20\n",
      "7/7 [==============================] - 4s 615ms/step - loss: 0.2396 - accuracy: 0.9424 - val_loss: 1.6898 - val_accuracy: 0.5593\n",
      "Epoch 12/20\n",
      "7/7 [==============================] - 4s 586ms/step - loss: 0.1367 - accuracy: 0.9712 - val_loss: 1.7829 - val_accuracy: 0.5593\n",
      "Epoch 13/20\n",
      "7/7 [==============================] - 4s 534ms/step - loss: 0.0786 - accuracy: 0.9784 - val_loss: 2.0150 - val_accuracy: 0.5424\n",
      "Epoch 14/20\n",
      "7/7 [==============================] - 3s 536ms/step - loss: 0.0752 - accuracy: 0.9856 - val_loss: 1.9116 - val_accuracy: 0.5932\n",
      "Epoch 15/20\n",
      "7/7 [==============================] - 4s 580ms/step - loss: 0.0466 - accuracy: 0.9928 - val_loss: 1.9214 - val_accuracy: 0.6102\n",
      "Epoch 16/20\n",
      "7/7 [==============================] - 4s 576ms/step - loss: 0.0449 - accuracy: 0.9856 - val_loss: 2.6313 - val_accuracy: 0.5932\n",
      "Epoch 17/20\n",
      "7/7 [==============================] - 4s 558ms/step - loss: 0.0473 - accuracy: 0.9928 - val_loss: 1.9919 - val_accuracy: 0.5932\n",
      "Epoch 18/20\n",
      "7/7 [==============================] - 3s 433ms/step - loss: 0.0418 - accuracy: 0.9928 - val_loss: 2.1963 - val_accuracy: 0.5763\n",
      "Epoch 19/20\n",
      "7/7 [==============================] - 4s 590ms/step - loss: 0.0125 - accuracy: 1.0000 - val_loss: 2.4142 - val_accuracy: 0.5593\n",
      "Epoch 20/20\n",
      "7/7 [==============================] - 4s 635ms/step - loss: 0.0086 - accuracy: 1.0000 - val_loss: 2.4869 - val_accuracy: 0.6271\n"
     ]
    }
   ],
   "source": [
    "history = classifier.fit_generator(training_set, epochs=20, \n",
    "                         validation_data=validation_set)"
   ]
  },
  {
   "cell_type": "code",
   "execution_count": 29,
   "id": "a484e984",
   "metadata": {},
   "outputs": [],
   "source": [
    "import matplotlib.pyplot as plt\n",
    "acc = history.history['accuracy']\n",
    "val_acc = history.history['val_accuracy']\n",
    "loss = history.history['loss']\n",
    "val_loss = history.history['val_loss']"
   ]
  },
  {
   "cell_type": "code",
   "execution_count": 30,
   "id": "6456f299",
   "metadata": {},
   "outputs": [],
   "source": [
    "epochs = range(1, len(acc) + 1)"
   ]
  },
  {
   "cell_type": "code",
   "execution_count": 31,
   "id": "df3453a9",
   "metadata": {},
   "outputs": [
    {
     "data": {
      "text/plain": [
       "<Figure size 432x288 with 0 Axes>"
      ]
     },
     "execution_count": 31,
     "metadata": {},
     "output_type": "execute_result"
    },
    {
     "data": {
      "image/png": "[encoded data removed]",
      "text/plain": [
       "<Figure size 432x288 with 1 Axes>"
      ]
     },
     "metadata": {
      "needs_background": "light"
     },
     "output_type": "display_data"
    },
    {
     "data": {
      "text/plain": [
       "<Figure size 432x288 with 0 Axes>"
      ]
     },
     "metadata": {},
     "output_type": "display_data"
    }
   ],
   "source": [
    "plt.plot(epochs, acc, 'bo',label='Training acc')\n",
    "plt.plot(epochs, val_acc, 'r', label='Validation acc')\n",
    "plt.title('Training and validation accuracy')\n",
    "plt.legend()\n",
    "plt.figure()"
   ]
  },
  {
   "cell_type": "code",
   "execution_count": 32,
   "id": "606f66f7",
   "metadata": {},
   "outputs": [
    {
     "data": {
      "image/png": "[encoded data removed]",
      "text/plain": [
       "<Figure size 432x288 with 1 Axes>"
      ]
     },
     "metadata": {
      "needs_background": "light"
     },
     "output_type": "display_data"
    }
   ],
   "source": [
    "plt.plot(epochs, loss, 'bo', label='Training loss')\n",
    "plt.plot(epochs, val_loss, 'r', label='Validation loss')\n",
    "plt.title('Training and validation loss')\n",
    "plt.legend()\n",
    "plt.show()"
   ]
  },
  {
   "cell_type": "markdown",
   "id": "bc870fb6",
   "metadata": {},
   "source": [
    "#___________________Model 2_____________________\n",
    "#Specifying the folder where images are present"
   ]
  },
  {
   "cell_type": "code",
   "execution_count": 34,
   "id": "9db57a90",
   "metadata": {},
   "outputs": [],
   "source": [
    "TrainingImagePath=\"C:/Users/Omkar/Train\""
   ]
  },
  {
   "cell_type": "code",
   "execution_count": 35,
   "id": "6c34431e",
   "metadata": {},
   "outputs": [],
   "source": [
    "validationImagePath = \"C:/Users/Omkar/Validation\""
   ]
  },
  {
   "cell_type": "code",
   "execution_count": 36,
   "id": "402c627a",
   "metadata": {},
   "outputs": [],
   "source": [
    "from keras.preprocessing.image import ImageDataGenerator"
   ]
  },
  {
   "cell_type": "code",
   "execution_count": 37,
   "id": "b92787b6",
   "metadata": {},
   "outputs": [],
   "source": [
    "train_datagen = ImageDataGenerator(rescale=1./225, shear_range=0.5, \n",
    "                                   zoom_range=0.5, width_shift_range=0.2,\n",
    "                                   height_shift_range=0.2)"
   ]
  },
  {
   "cell_type": "code",
   "execution_count": 38,
   "id": "2b15eea0",
   "metadata": {},
   "outputs": [],
   "source": [
    "test_datagen = ImageDataGenerator(rescale=1./225)"
   ]
  },
  {
   "cell_type": "code",
   "execution_count": 39,
   "id": "4f1af058",
   "metadata": {},
   "outputs": [
    {
     "name": "stdout",
     "output_type": "stream",
     "text": [
      "Found 139 images belonging to 11 classes.\n"
     ]
    }
   ],
   "source": [
    "training_set = train_datagen.flow_from_directory(TrainingImagePath,\n",
    "                                                 target_size=(64, 64),\n",
    "                                                 batch_size=20,\n",
    "                                                 class_mode='categorical')"
   ]
  },
  {
   "cell_type": "code",
   "execution_count": 40,
   "id": "77194893",
   "metadata": {},
   "outputs": [
    {
     "name": "stdout",
     "output_type": "stream",
     "text": [
      "Found 59 images belonging to 11 classes.\n"
     ]
    }
   ],
   "source": [
    "validation_set = test_datagen.flow_from_directory(validationImagePath,\n",
    "                                                  target_size=(64, 64),\n",
    "                                                  batch_size=20,\n",
    "                                                  class_mode='categorical')"
   ]
  },
  {
   "cell_type": "markdown",
   "id": "9da2b626",
   "metadata": {},
   "source": [
    "'''______________________Create CNN deep learning model'''"
   ]
  },
  {
   "cell_type": "code",
   "execution_count": 41,
   "id": "24433f5f",
   "metadata": {},
   "outputs": [],
   "source": [
    "from keras.models import Sequential\n",
    "from keras.layers import Convolution2D\n",
    "from keras.layers import MaxPool2D\n",
    "from keras.layers import Flatten\n",
    "from keras.layers import Dense"
   ]
  },
  {
   "cell_type": "code",
   "execution_count": 42,
   "id": "6e0fd73c",
   "metadata": {},
   "outputs": [],
   "source": [
    "classifier= Sequential()"
   ]
  },
  {
   "cell_type": "code",
   "execution_count": 43,
   "id": "cf1ba365",
   "metadata": {},
   "outputs": [],
   "source": [
    "classifier.add(Convolution2D(32, kernel_size=(3, 3), input_shape=(64,64,3), activation='relu'))"
   ]
  },
  {
   "cell_type": "code",
   "execution_count": 44,
   "id": "2180d20b",
   "metadata": {},
   "outputs": [],
   "source": [
    "classifier.add(MaxPool2D(pool_size=(2,2)))"
   ]
  },
  {
   "cell_type": "code",
   "execution_count": 45,
   "id": "719b1628",
   "metadata": {},
   "outputs": [],
   "source": [
    "classifier.add(Convolution2D(64, kernel_size=(3, 3), activation='relu'))"
   ]
  },
  {
   "cell_type": "code",
   "execution_count": 46,
   "id": "d740b56a",
   "metadata": {},
   "outputs": [],
   "source": [
    "classifier.add(MaxPool2D(pool_size=(2,2)))"
   ]
  },
  {
   "cell_type": "code",
   "execution_count": 47,
   "id": "a13831ff",
   "metadata": {},
   "outputs": [],
   "source": [
    "classifier.add(Convolution2D(64, kernel_size=(3, 3), activation='relu'))"
   ]
  },
  {
   "cell_type": "code",
   "execution_count": 48,
   "id": "072ede79",
   "metadata": {},
   "outputs": [],
   "source": [
    "classifier.add(Flatten())"
   ]
  },
  {
   "cell_type": "code",
   "execution_count": 49,
   "id": "2148f7d3",
   "metadata": {},
   "outputs": [],
   "source": [
    "classifier.add(Dense(64, activation='relu'))"
   ]
  },
  {
   "cell_type": "code",
   "execution_count": 50,
   "id": "df88d334",
   "metadata": {},
   "outputs": [],
   "source": [
    "classifier.add(Dense(11, activation='softmax'))"
   ]
  },
  {
   "cell_type": "code",
   "execution_count": 51,
   "id": "6ad77ee8",
   "metadata": {},
   "outputs": [
    {
     "name": "stdout",
     "output_type": "stream",
     "text": [
      "Model: \"sequential_1\"\n",
      "_________________________________________________________________\n",
      " Layer (type)                Output Shape              Param #   \n",
      "=================================================================\n",
      " conv2d_3 (Conv2D)           (None, 62, 62, 32)        896       \n",
      "                                                                 \n",
      " max_pooling2d_2 (MaxPooling  (None, 31, 31, 32)       0         \n",
      " 2D)                                                             \n",
      "                                                                 \n",
      " conv2d_4 (Conv2D)           (None, 29, 29, 64)        18496     \n",
      "                                                                 \n",
      " max_pooling2d_3 (MaxPooling  (None, 14, 14, 64)       0         \n",
      " 2D)                                                             \n",
      "                                                                 \n",
      " conv2d_5 (Conv2D)           (None, 12, 12, 64)        36928     \n",
      "                                                                 \n",
      " flatten_1 (Flatten)         (None, 9216)              0         \n",
      "                                                                 \n",
      " dense_2 (Dense)             (None, 64)                589888    \n",
      "                                                                 \n",
      " dense_3 (Dense)             (None, 11)                715       \n",
      "                                                                 \n",
      "=================================================================\n",
      "Total params: 646,923\n",
      "Trainable params: 646,923\n",
      "Non-trainable params: 0\n",
      "_________________________________________________________________\n"
     ]
    }
   ],
   "source": [
    "classifier.summary()"
   ]
  },
  {
   "cell_type": "code",
   "execution_count": 52,
   "id": "cba3b199",
   "metadata": {},
   "outputs": [],
   "source": [
    "classifier.compile(loss='categorical_crossentropy', \n",
    "                   optimizer = 'adam', metrics=[\"accuracy\"])"
   ]
  },
  {
   "cell_type": "code",
   "execution_count": 53,
   "id": "e19a5217",
   "metadata": {},
   "outputs": [
    {
     "name": "stderr",
     "output_type": "stream",
     "text": [
      "C:\\Users\\Omkar\\AppData\\Local\\Temp/ipykernel_9768/1988347780.py:1: UserWarning: `Model.fit_generator` is deprecated and will be removed in a future version. Please use `Model.fit`, which supports generators.\n",
      "  history = classifier.fit_generator(training_set, epochs=100,\n"
     ]
    },
    {
     "name": "stdout",
     "output_type": "stream",
     "text": [
      "Epoch 1/100\n",
      "7/7 [==============================] - 7s 794ms/step - loss: 2.4271 - accuracy: 0.1007 - val_loss: 2.3539 - val_accuracy: 0.1017\n",
      "Epoch 2/100\n",
      "7/7 [==============================] - 6s 886ms/step - loss: 2.3331 - accuracy: 0.1007 - val_loss: 2.2927 - val_accuracy: 0.1525\n",
      "Epoch 3/100\n",
      "7/7 [==============================] - 7s 956ms/step - loss: 2.3209 - accuracy: 0.1439 - val_loss: 2.2573 - val_accuracy: 0.1695\n",
      "Epoch 4/100\n",
      "7/7 [==============================] - 5s 710ms/step - loss: 2.2851 - accuracy: 0.1655 - val_loss: 2.2293 - val_accuracy: 0.2373\n",
      "Epoch 5/100\n",
      "7/7 [==============================] - 6s 952ms/step - loss: 2.2671 - accuracy: 0.1367 - val_loss: 2.1710 - val_accuracy: 0.2034\n",
      "Epoch 6/100\n",
      "7/7 [==============================] - 6s 788ms/step - loss: 2.2325 - accuracy: 0.2086 - val_loss: 2.0956 - val_accuracy: 0.2034\n",
      "Epoch 7/100\n",
      "7/7 [==============================] - 6s 835ms/step - loss: 2.1718 - accuracy: 0.1942 - val_loss: 2.0986 - val_accuracy: 0.2203\n",
      "Epoch 8/100\n",
      "7/7 [==============================] - 5s 790ms/step - loss: 2.1985 - accuracy: 0.1727 - val_loss: 2.1254 - val_accuracy: 0.1356\n",
      "Epoch 9/100\n",
      "7/7 [==============================] - 5s 667ms/step - loss: 2.1057 - accuracy: 0.2374 - val_loss: 1.8916 - val_accuracy: 0.3220\n",
      "Epoch 10/100\n",
      "7/7 [==============================] - 5s 692ms/step - loss: 1.9611 - accuracy: 0.3237 - val_loss: 1.9367 - val_accuracy: 0.3051\n",
      "Epoch 11/100\n",
      "7/7 [==============================] - 6s 836ms/step - loss: 1.9874 - accuracy: 0.2950 - val_loss: 1.9815 - val_accuracy: 0.2203\n",
      "Epoch 12/100\n",
      "7/7 [==============================] - 5s 721ms/step - loss: 1.8499 - accuracy: 0.4029 - val_loss: 1.6441 - val_accuracy: 0.3729\n",
      "Epoch 13/100\n",
      "7/7 [==============================] - 4s 646ms/step - loss: 1.8809 - accuracy: 0.3669 - val_loss: 1.4675 - val_accuracy: 0.4576\n",
      "Epoch 14/100\n",
      "7/7 [==============================] - 6s 815ms/step - loss: 1.6769 - accuracy: 0.3957 - val_loss: 1.7507 - val_accuracy: 0.3559\n",
      "Epoch 15/100\n",
      "7/7 [==============================] - 5s 735ms/step - loss: 1.5550 - accuracy: 0.4604 - val_loss: 1.5213 - val_accuracy: 0.4915\n",
      "Epoch 16/100\n",
      "7/7 [==============================] - 4s 637ms/step - loss: 1.6924 - accuracy: 0.4173 - val_loss: 1.3278 - val_accuracy: 0.6271\n",
      "Epoch 17/100\n",
      "7/7 [==============================] - 5s 800ms/step - loss: 1.5536 - accuracy: 0.4820 - val_loss: 1.5814 - val_accuracy: 0.4237\n",
      "Epoch 18/100\n",
      "7/7 [==============================] - 6s 846ms/step - loss: 1.5694 - accuracy: 0.4245 - val_loss: 1.3663 - val_accuracy: 0.4915\n",
      "Epoch 19/100\n",
      "7/7 [==============================] - 4s 594ms/step - loss: 1.5193 - accuracy: 0.5324 - val_loss: 1.3104 - val_accuracy: 0.5424\n",
      "Epoch 20/100\n",
      "7/7 [==============================] - 6s 819ms/step - loss: 1.3694 - accuracy: 0.5899 - val_loss: 1.4125 - val_accuracy: 0.4576\n",
      "Epoch 21/100\n",
      "7/7 [==============================] - 6s 808ms/step - loss: 1.4030 - accuracy: 0.5252 - val_loss: 1.3496 - val_accuracy: 0.4915\n",
      "Epoch 22/100\n",
      "7/7 [==============================] - 4s 603ms/step - loss: 1.3165 - accuracy: 0.5755 - val_loss: 1.1893 - val_accuracy: 0.5085\n",
      "Epoch 23/100\n",
      "7/7 [==============================] - 5s 821ms/step - loss: 1.3929 - accuracy: 0.5180 - val_loss: 1.0791 - val_accuracy: 0.6441\n",
      "Epoch 24/100\n",
      "7/7 [==============================] - 6s 812ms/step - loss: 1.2786 - accuracy: 0.5252 - val_loss: 1.4894 - val_accuracy: 0.5085\n",
      "Epoch 25/100\n",
      "7/7 [==============================] - 5s 649ms/step - loss: 1.3018 - accuracy: 0.5971 - val_loss: 1.1440 - val_accuracy: 0.6610\n",
      "Epoch 26/100\n",
      "7/7 [==============================] - 5s 732ms/step - loss: 1.3758 - accuracy: 0.5324 - val_loss: 1.2012 - val_accuracy: 0.5932\n",
      "Epoch 27/100\n",
      "7/7 [==============================] - 6s 823ms/step - loss: 1.2206 - accuracy: 0.6187 - val_loss: 0.9445 - val_accuracy: 0.6610\n",
      "Epoch 28/100\n",
      "7/7 [==============================] - 5s 684ms/step - loss: 1.2688 - accuracy: 0.5612 - val_loss: 1.1060 - val_accuracy: 0.6102\n",
      "Epoch 29/100\n",
      "7/7 [==============================] - 5s 744ms/step - loss: 1.1791 - accuracy: 0.6187 - val_loss: 0.9367 - val_accuracy: 0.6610\n",
      "Epoch 30/100\n",
      "7/7 [==============================] - 5s 793ms/step - loss: 1.3491 - accuracy: 0.5252 - val_loss: 0.9032 - val_accuracy: 0.7119\n",
      "Epoch 31/100\n",
      "7/7 [==============================] - 5s 708ms/step - loss: 1.0377 - accuracy: 0.6331 - val_loss: 1.0577 - val_accuracy: 0.6610\n",
      "Epoch 32/100\n",
      "7/7 [==============================] - 5s 710ms/step - loss: 1.0713 - accuracy: 0.6475 - val_loss: 0.8976 - val_accuracy: 0.6949\n",
      "Epoch 33/100\n",
      "7/7 [==============================] - 6s 872ms/step - loss: 1.1242 - accuracy: 0.5683 - val_loss: 0.8870 - val_accuracy: 0.7288\n",
      "Epoch 34/100\n",
      "7/7 [==============================] - 5s 753ms/step - loss: 1.0461 - accuracy: 0.6691 - val_loss: 0.8760 - val_accuracy: 0.7458\n",
      "Epoch 35/100\n",
      "7/7 [==============================] - 5s 699ms/step - loss: 0.9824 - accuracy: 0.6331 - val_loss: 1.1275 - val_accuracy: 0.5763\n",
      "Epoch 36/100\n",
      "7/7 [==============================] - 6s 812ms/step - loss: 1.0085 - accuracy: 0.6403 - val_loss: 0.9351 - val_accuracy: 0.6610\n",
      "Epoch 37/100\n",
      "7/7 [==============================] - 5s 747ms/step - loss: 0.8872 - accuracy: 0.7194 - val_loss: 0.8605 - val_accuracy: 0.7458\n",
      "Epoch 38/100\n",
      "7/7 [==============================] - 4s 626ms/step - loss: 1.0616 - accuracy: 0.6547 - val_loss: 0.9933 - val_accuracy: 0.6949\n",
      "Epoch 39/100\n",
      "7/7 [==============================] - 6s 844ms/step - loss: 0.9689 - accuracy: 0.6763 - val_loss: 0.7853 - val_accuracy: 0.7288\n",
      "Epoch 40/100\n",
      "7/7 [==============================] - 5s 794ms/step - loss: 0.9765 - accuracy: 0.6547 - val_loss: 0.9914 - val_accuracy: 0.6949\n",
      "Epoch 41/100\n",
      "7/7 [==============================] - 4s 659ms/step - loss: 0.8740 - accuracy: 0.6691 - val_loss: 0.7291 - val_accuracy: 0.7966\n",
      "Epoch 42/100\n",
      "7/7 [==============================] - 6s 838ms/step - loss: 0.8170 - accuracy: 0.7050 - val_loss: 0.7770 - val_accuracy: 0.7797\n",
      "Epoch 43/100\n",
      "7/7 [==============================] - 5s 796ms/step - loss: 0.7533 - accuracy: 0.7482 - val_loss: 1.0461 - val_accuracy: 0.6610\n",
      "Epoch 44/100\n",
      "7/7 [==============================] - 4s 589ms/step - loss: 0.8000 - accuracy: 0.7338 - val_loss: 0.6968 - val_accuracy: 0.7797\n",
      "Epoch 45/100\n",
      "7/7 [==============================] - 6s 821ms/step - loss: 0.8009 - accuracy: 0.7770 - val_loss: 0.7170 - val_accuracy: 0.7966\n",
      "Epoch 46/100\n",
      "7/7 [==============================] - 6s 821ms/step - loss: 0.8286 - accuracy: 0.7266 - val_loss: 0.8822 - val_accuracy: 0.7627\n",
      "Epoch 47/100\n",
      "7/7 [==============================] - 4s 591ms/step - loss: 0.8467 - accuracy: 0.7050 - val_loss: 0.6652 - val_accuracy: 0.7966\n",
      "Epoch 48/100\n",
      "7/7 [==============================] - 5s 766ms/step - loss: 0.7888 - accuracy: 0.7410 - val_loss: 0.6489 - val_accuracy: 0.7627\n",
      "Epoch 49/100\n",
      "7/7 [==============================] - 6s 813ms/step - loss: 0.6907 - accuracy: 0.7626 - val_loss: 0.7069 - val_accuracy: 0.7458\n",
      "Epoch 50/100\n",
      "7/7 [==============================] - 4s 624ms/step - loss: 0.8977 - accuracy: 0.7266 - val_loss: 0.9210 - val_accuracy: 0.7119\n",
      "Epoch 51/100\n",
      "7/7 [==============================] - 5s 722ms/step - loss: 0.9099 - accuracy: 0.6978 - val_loss: 1.0576 - val_accuracy: 0.6780\n",
      "Epoch 52/100\n",
      "7/7 [==============================] - 5s 770ms/step - loss: 0.7825 - accuracy: 0.7554 - val_loss: 0.7298 - val_accuracy: 0.7797\n",
      "Epoch 53/100\n",
      "7/7 [==============================] - 5s 736ms/step - loss: 0.7144 - accuracy: 0.8129 - val_loss: 0.8724 - val_accuracy: 0.7627\n",
      "Epoch 54/100\n",
      "7/7 [==============================] - 5s 714ms/step - loss: 0.5998 - accuracy: 0.7986 - val_loss: 0.7714 - val_accuracy: 0.7627\n",
      "Epoch 55/100\n",
      "7/7 [==============================] - 6s 800ms/step - loss: 0.5980 - accuracy: 0.8058 - val_loss: 0.6786 - val_accuracy: 0.7966\n",
      "Epoch 56/100\n",
      "7/7 [==============================] - 5s 682ms/step - loss: 0.8004 - accuracy: 0.7410 - val_loss: 0.8428 - val_accuracy: 0.6949\n",
      "Epoch 57/100\n",
      "7/7 [==============================] - 4s 632ms/step - loss: 0.5717 - accuracy: 0.7770 - val_loss: 0.8482 - val_accuracy: 0.7288\n",
      "Epoch 58/100\n",
      "7/7 [==============================] - 5s 804ms/step - loss: 0.5618 - accuracy: 0.8058 - val_loss: 0.6908 - val_accuracy: 0.7966\n",
      "Epoch 59/100\n",
      "7/7 [==============================] - 5s 749ms/step - loss: 0.6677 - accuracy: 0.7842 - val_loss: 0.7282 - val_accuracy: 0.7797\n",
      "Epoch 60/100\n",
      "7/7 [==============================] - 4s 608ms/step - loss: 0.4667 - accuracy: 0.8633 - val_loss: 0.7195 - val_accuracy: 0.7966\n",
      "Epoch 61/100\n",
      "7/7 [==============================] - 6s 882ms/step - loss: 0.5795 - accuracy: 0.8417 - val_loss: 0.5949 - val_accuracy: 0.8305\n",
      "Epoch 62/100\n",
      "7/7 [==============================] - 5s 780ms/step - loss: 0.5455 - accuracy: 0.8058 - val_loss: 0.5595 - val_accuracy: 0.7966\n",
      "Epoch 63/100\n",
      "7/7 [==============================] - 4s 568ms/step - loss: 0.6106 - accuracy: 0.8129 - val_loss: 0.6792 - val_accuracy: 0.8136\n",
      "Epoch 64/100\n",
      "7/7 [==============================] - 5s 775ms/step - loss: 0.6566 - accuracy: 0.7986 - val_loss: 0.6348 - val_accuracy: 0.7966\n",
      "Epoch 65/100\n",
      "7/7 [==============================] - 6s 829ms/step - loss: 0.5030 - accuracy: 0.8345 - val_loss: 0.7072 - val_accuracy: 0.6949\n",
      "Epoch 66/100\n",
      "7/7 [==============================] - 4s 584ms/step - loss: 0.3599 - accuracy: 0.8777 - val_loss: 0.6721 - val_accuracy: 0.7966\n",
      "Epoch 67/100\n",
      "7/7 [==============================] - 5s 770ms/step - loss: 0.4983 - accuracy: 0.8417 - val_loss: 0.6218 - val_accuracy: 0.7797\n",
      "Epoch 68/100\n",
      "7/7 [==============================] - 5s 755ms/step - loss: 0.5464 - accuracy: 0.8129 - val_loss: 1.1868 - val_accuracy: 0.6780\n",
      "Epoch 69/100\n",
      "7/7 [==============================] - 5s 678ms/step - loss: 0.5910 - accuracy: 0.7842 - val_loss: 0.5336 - val_accuracy: 0.8136\n",
      "Epoch 70/100\n",
      "7/7 [==============================] - 5s 682ms/step - loss: 0.4988 - accuracy: 0.8201 - val_loss: 0.7017 - val_accuracy: 0.7288\n",
      "Epoch 71/100\n",
      "7/7 [==============================] - 5s 809ms/step - loss: 0.4313 - accuracy: 0.8705 - val_loss: 0.7242 - val_accuracy: 0.7288\n",
      "Epoch 72/100\n",
      "7/7 [==============================] - 5s 744ms/step - loss: 0.4020 - accuracy: 0.8561 - val_loss: 0.8698 - val_accuracy: 0.7288\n",
      "Epoch 73/100\n",
      "7/7 [==============================] - 5s 691ms/step - loss: 0.4164 - accuracy: 0.8633 - val_loss: 0.5058 - val_accuracy: 0.8136\n",
      "Epoch 74/100\n",
      "7/7 [==============================] - 6s 818ms/step - loss: 0.4486 - accuracy: 0.8345 - val_loss: 0.4856 - val_accuracy: 0.7966\n",
      "Epoch 75/100\n",
      "7/7 [==============================] - 5s 755ms/step - loss: 0.3823 - accuracy: 0.8345 - val_loss: 0.8685 - val_accuracy: 0.7458\n",
      "Epoch 76/100\n",
      "7/7 [==============================] - 4s 650ms/step - loss: 0.5326 - accuracy: 0.8561 - val_loss: 0.5715 - val_accuracy: 0.7458\n",
      "Epoch 77/100\n",
      "7/7 [==============================] - 6s 838ms/step - loss: 0.4560 - accuracy: 0.8633 - val_loss: 0.5076 - val_accuracy: 0.8475\n",
      "Epoch 78/100\n",
      "7/7 [==============================] - 6s 839ms/step - loss: 0.3743 - accuracy: 0.8849 - val_loss: 0.7272 - val_accuracy: 0.7627\n",
      "Epoch 79/100\n",
      "7/7 [==============================] - 4s 615ms/step - loss: 0.4598 - accuracy: 0.8705 - val_loss: 0.5450 - val_accuracy: 0.7627\n",
      "Epoch 80/100\n",
      "7/7 [==============================] - 6s 811ms/step - loss: 0.4378 - accuracy: 0.8849 - val_loss: 0.4097 - val_accuracy: 0.8475\n",
      "Epoch 81/100\n",
      "7/7 [==============================] - 6s 828ms/step - loss: 0.4802 - accuracy: 0.8417 - val_loss: 0.8363 - val_accuracy: 0.7458\n",
      "Epoch 82/100\n",
      "7/7 [==============================] - 4s 575ms/step - loss: 0.4436 - accuracy: 0.8633 - val_loss: 0.6438 - val_accuracy: 0.8136\n",
      "Epoch 83/100\n",
      "7/7 [==============================] - 5s 691ms/step - loss: 0.4553 - accuracy: 0.8921 - val_loss: 0.7575 - val_accuracy: 0.7966\n",
      "Epoch 84/100\n",
      "7/7 [==============================] - 5s 804ms/step - loss: 0.4763 - accuracy: 0.7986 - val_loss: 0.7303 - val_accuracy: 0.7797\n",
      "Epoch 85/100\n",
      "7/7 [==============================] - 5s 654ms/step - loss: 0.3663 - accuracy: 0.8777 - val_loss: 0.5380 - val_accuracy: 0.8305\n",
      "Epoch 86/100\n",
      "7/7 [==============================] - 5s 782ms/step - loss: 0.3406 - accuracy: 0.8849 - val_loss: 0.6072 - val_accuracy: 0.8305\n",
      "Epoch 87/100\n",
      "7/7 [==============================] - 6s 871ms/step - loss: 0.3037 - accuracy: 0.8993 - val_loss: 0.4956 - val_accuracy: 0.8305\n",
      "Epoch 88/100\n",
      "7/7 [==============================] - 4s 635ms/step - loss: 0.2990 - accuracy: 0.8849 - val_loss: 0.7851 - val_accuracy: 0.7627\n",
      "Epoch 89/100\n",
      "7/7 [==============================] - 5s 707ms/step - loss: 0.2776 - accuracy: 0.9281 - val_loss: 0.5268 - val_accuracy: 0.8136\n",
      "Epoch 90/100\n",
      "7/7 [==============================] - 6s 819ms/step - loss: 0.3110 - accuracy: 0.8921 - val_loss: 0.9160 - val_accuracy: 0.7458\n",
      "Epoch 91/100\n",
      "7/7 [==============================] - 5s 695ms/step - loss: 0.4718 - accuracy: 0.8777 - val_loss: 0.5325 - val_accuracy: 0.7966\n",
      "Epoch 92/100\n",
      "7/7 [==============================] - 5s 710ms/step - loss: 0.5024 - accuracy: 0.8561 - val_loss: 0.6229 - val_accuracy: 0.8475\n",
      "Epoch 93/100\n",
      "7/7 [==============================] - 5s 793ms/step - loss: 0.3496 - accuracy: 0.8705 - val_loss: 0.7665 - val_accuracy: 0.8136\n",
      "Epoch 94/100\n",
      "7/7 [==============================] - 5s 750ms/step - loss: 0.4155 - accuracy: 0.8417 - val_loss: 0.7763 - val_accuracy: 0.8136\n",
      "Epoch 95/100\n",
      "7/7 [==============================] - 5s 666ms/step - loss: 0.3801 - accuracy: 0.8705 - val_loss: 0.4298 - val_accuracy: 0.8814\n",
      "Epoch 96/100\n",
      "7/7 [==============================] - 6s 821ms/step - loss: 0.3943 - accuracy: 0.8633 - val_loss: 0.6441 - val_accuracy: 0.8136\n",
      "Epoch 97/100\n",
      "7/7 [==============================] - 5s 796ms/step - loss: 0.3598 - accuracy: 0.8633 - val_loss: 0.4203 - val_accuracy: 0.8814\n",
      "Epoch 98/100\n",
      "7/7 [==============================] - 4s 608ms/step - loss: 0.5496 - accuracy: 0.8058 - val_loss: 0.4765 - val_accuracy: 0.8305\n",
      "Epoch 99/100\n",
      "7/7 [==============================] - 5s 761ms/step - loss: 0.2818 - accuracy: 0.9137 - val_loss: 0.5094 - val_accuracy: 0.8475\n",
      "Epoch 100/100\n",
      "7/7 [==============================] - 5s 812ms/step - loss: 0.3372 - accuracy: 0.8921 - val_loss: 1.0913 - val_accuracy: 0.7627\n"
     ]
    }
   ],
   "source": [
    "history = classifier.fit_generator(training_set, epochs=100, \n",
    "                         validation_data=validation_set)"
   ]
  },
  {
   "cell_type": "code",
   "execution_count": 55,
   "id": "6ef40ecb",
   "metadata": {},
   "outputs": [],
   "source": [
    "import matplotlib.pyplot as plt\n",
    "acc = history.history['accuracy']\n",
    "val_acc = history.history['val_accuracy']\n",
    "loss = history.history['loss']\n",
    "val_loss = history.history['val_loss']\n",
    "epochs = range(1, len(acc) + 1)"
   ]
  },
  {
   "cell_type": "code",
   "execution_count": 56,
   "id": "9fca77ca",
   "metadata": {},
   "outputs": [
    {
     "data": {
      "text/plain": [
       "<Figure size 432x288 with 0 Axes>"
      ]
     },
     "execution_count": 56,
     "metadata": {},
     "output_type": "execute_result"
    },
    {
     "data": {
      "image/png": "[encoded data removed]",
      "text/plain": [
       "<Figure size 432x288 with 1 Axes>"
      ]
     },
     "metadata": {
      "needs_background": "light"
     },
     "output_type": "display_data"
    },
    {
     "data": {
      "text/plain": [
       "<Figure size 432x288 with 0 Axes>"
      ]
     },
     "metadata": {},
     "output_type": "display_data"
    }
   ],
   "source": [
    "plt.plot(epochs, acc, 'bo',label='Training acc')\n",
    "plt.plot(epochs, val_acc, 'g', label='Validation acc')\n",
    "plt.title('Training and validation accuracy')\n",
    "plt.legend()\n",
    "plt.figure()"
   ]
  },
  {
   "cell_type": "code",
   "execution_count": 57,
   "id": "7e2ecc6a",
   "metadata": {},
   "outputs": [
    {
     "data": {
      "image/png": "[encoded data removed]",
      "text/plain": [
       "<Figure size 432x288 with 1 Axes>"
      ]
     },
     "metadata": {
      "needs_background": "light"
     },
     "output_type": "display_data"
    }
   ],
   "source": [
    "plt.plot(epochs, loss, 'bo', label='Training loss')\n",
    "plt.plot(epochs, val_loss, 'g', label='Validation loss')\n",
    "plt.title('Training and validation loss')\n",
    "plt.legend()\n",
    "plt.show()"
   ]
  },
  {
   "cell_type": "code",
   "execution_count": 58,
   "id": "cc1d79bc",
   "metadata": {},
   "outputs": [],
   "source": [
    "from keras.applications import VGG16"
   ]
  },
  {
   "cell_type": "code",
   "execution_count": 59,
   "id": "4885a055",
   "metadata": {},
   "outputs": [
    {
     "name": "stdout",
     "output_type": "stream",
     "text": [
      "Downloading data from https://storage.googleapis.com/tensorflow/keras-applications/vgg16/vgg16_weights_tf_dim_ordering_tf_kernels_notop.h5\n",
      "58889256/58889256 [==============================] - 19s 0us/step\n"
     ]
    }
   ],
   "source": [
    "conv_base = VGG16(weights='imagenet', include_top=False,\n",
    "                  input_shape=(150, 150, 3))"
   ]
  },
  {
   "cell_type": "code",
   "execution_count": 60,
   "id": "f6f8b253",
   "metadata": {},
   "outputs": [
    {
     "name": "stdout",
     "output_type": "stream",
     "text": [
      "Model: \"vgg16\"\n",
      "_________________________________________________________________\n",
      " Layer (type)                Output Shape              Param #   \n",
      "=================================================================\n",
      " input_1 (InputLayer)        [(None, 150, 150, 3)]     0         \n",
      "                                                                 \n",
      " block1_conv1 (Conv2D)       (None, 150, 150, 64)      1792      \n",
      "                                                                 \n",
      " block1_conv2 (Conv2D)       (None, 150, 150, 64)      36928     \n",
      "                                                                 \n",
      " block1_pool (MaxPooling2D)  (None, 75, 75, 64)        0         \n",
      "                                                                 \n",
      " block2_conv1 (Conv2D)       (None, 75, 75, 128)       73856     \n",
      "                                                                 \n",
      " block2_conv2 (Conv2D)       (None, 75, 75, 128)       147584    \n",
      "                                                                 \n",
      " block2_pool (MaxPooling2D)  (None, 37, 37, 128)       0         \n",
      "                                                                 \n",
      " block3_conv1 (Conv2D)       (None, 37, 37, 256)       295168    \n",
      "                                                                 \n",
      " block3_conv2 (Conv2D)       (None, 37, 37, 256)       590080    \n",
      "                                                                 \n",
      " block3_conv3 (Conv2D)       (None, 37, 37, 256)       590080    \n",
      "                                                                 \n",
      " block3_pool (MaxPooling2D)  (None, 18, 18, 256)       0         \n",
      "                                                                 \n",
      " block4_conv1 (Conv2D)       (None, 18, 18, 512)       1180160   \n",
      "                                                                 \n",
      " block4_conv2 (Conv2D)       (None, 18, 18, 512)       2359808   \n",
      "                                                                 \n",
      " block4_conv3 (Conv2D)       (None, 18, 18, 512)       2359808   \n",
      "                                                                 \n",
      " block4_pool (MaxPooling2D)  (None, 9, 9, 512)         0         \n",
      "                                                                 \n",
      " block5_conv1 (Conv2D)       (None, 9, 9, 512)         2359808   \n",
      "                                                                 \n",
      " block5_conv2 (Conv2D)       (None, 9, 9, 512)         2359808   \n",
      "                                                                 \n",
      " block5_conv3 (Conv2D)       (None, 9, 9, 512)         2359808   \n",
      "                                                                 \n",
      " block5_pool (MaxPooling2D)  (None, 4, 4, 512)         0         \n",
      "                                                                 \n",
      "=================================================================\n",
      "Total params: 14,714,688\n",
      "Trainable params: 14,714,688\n",
      "Non-trainable params: 0\n",
      "_________________________________________________________________\n"
     ]
    }
   ],
   "source": [
    "conv_base.summary()"
   ]
  },
  {
   "cell_type": "code",
   "execution_count": 61,
   "id": "e46309e1",
   "metadata": {},
   "outputs": [],
   "source": [
    "import numpy as np\n",
    "from keras.preprocessing.image import ImageDataGenerator"
   ]
  },
  {
   "cell_type": "code",
   "execution_count": 62,
   "id": "b422f03f",
   "metadata": {},
   "outputs": [],
   "source": [
    "TrainingImagePath=\"C:/Users/Omkar/Train\"\n",
    "validationImagePath = \"C:/Users/Omkar/Validation\""
   ]
  },
  {
   "cell_type": "code",
   "execution_count": 63,
   "id": "2894e4f3",
   "metadata": {},
   "outputs": [],
   "source": [
    "datagen = ImageDataGenerator(rescale=1./255)"
   ]
  },
  {
   "cell_type": "code",
   "execution_count": 64,
   "id": "c5f3af25",
   "metadata": {},
   "outputs": [],
   "source": [
    "batch_size = 20"
   ]
  },
  {
   "cell_type": "code",
   "execution_count": 66,
   "id": "ef5a1a21",
   "metadata": {},
   "outputs": [],
   "source": [
    "def extract_features(directory, sample_count):\n",
    "    features = np.zeros(shape=(sample_count, 4, 4, 512))\n",
    "    labels = np.zeros(shape=(sample_count))\n",
    "    generator = datagen.flow_from_directory(directory, target_size=(150, 150),\n",
    "                                            batch_size=batch_size,\n",
    "                                            class_mode='binary')\n",
    "    i=0\n",
    "    for inputs_batch, labels_batch in generator:\n",
    "        features_batch = conv_base.predict(inputs_batch)\n",
    "        features[i * batch_size : (i + 1) * batch_size] = features_batch\n",
    "        labels[i * batch_size : (i + 1) * batch_size] = labels_batch\n",
    "        i += 1\n",
    "        if i * batch_size >= sample_count:\n",
    "            break\n",
    "    return features, labels"
   ]
  },
  {
   "cell_type": "code",
   "execution_count": 67,
   "id": "f52272d5",
   "metadata": {},
   "outputs": [
    {
     "name": "stdout",
     "output_type": "stream",
     "text": [
      "Found 139 images belonging to 11 classes.\n",
      "1/1 [==============================] - 3s 3s/step\n",
      "1/1 [==============================] - 2s 2s/step\n",
      "1/1 [==============================] - 2s 2s/step\n",
      "1/1 [==============================] - 2s 2s/step\n",
      "1/1 [==============================] - 2s 2s/step\n",
      "1/1 [==============================] - 2s 2s/step\n",
      "1/1 [==============================] - 2s 2s/step\n"
     ]
    }
   ],
   "source": [
    "train_features, train_labels = extract_features(TrainingImagePath, 139)"
   ]
  },
  {
   "cell_type": "code",
   "execution_count": 68,
   "id": "4a802873",
   "metadata": {},
   "outputs": [
    {
     "name": "stdout",
     "output_type": "stream",
     "text": [
      "Found 59 images belonging to 11 classes.\n",
      "1/1 [==============================] - 1s 1s/step\n",
      "1/1 [==============================] - 1s 1s/step\n",
      "1/1 [==============================] - 1s 1s/step\n"
     ]
    }
   ],
   "source": [
    "validation_features, validation_labels = extract_features(validationImagePath, 59)"
   ]
  },
  {
   "cell_type": "code",
   "execution_count": 70,
   "id": "6c37f2b0",
   "metadata": {},
   "outputs": [],
   "source": [
    "train_features.shape #139, 4, 4, 512\n",
    "train_features = np.reshape(train_features, (139, 4*4* 512))"
   ]
  },
  {
   "cell_type": "code",
   "execution_count": 71,
   "id": "dd600508",
   "metadata": {},
   "outputs": [
    {
     "data": {
      "text/plain": [
       "(139, 8192)"
      ]
     },
     "execution_count": 71,
     "metadata": {},
     "output_type": "execute_result"
    }
   ],
   "source": [
    "train_features.shape"
   ]
  },
  {
   "cell_type": "code",
   "execution_count": 72,
   "id": "9c9b0b51",
   "metadata": {},
   "outputs": [
    {
     "data": {
      "text/plain": [
       "(59, 8192)"
      ]
     },
     "execution_count": 72,
     "metadata": {},
     "output_type": "execute_result"
    }
   ],
   "source": [
    "validation_features.shape\n",
    "validation_features = np.reshape(validation_features, (59, 4*4* 512))\n",
    "validation_features.shape "
   ]
  },
  {
   "cell_type": "code",
   "execution_count": 73,
   "id": "9cc8dc17",
   "metadata": {},
   "outputs": [
    {
     "data": {
      "text/plain": [
       "(139, 11)"
      ]
     },
     "execution_count": 73,
     "metadata": {},
     "output_type": "execute_result"
    }
   ],
   "source": [
    "train_labels.shape #139,\n",
    "from keras.utils import to_categorical\n",
    "train_labels_cat = to_categorical(train_labels)\n",
    "train_labels_cat.shape"
   ]
  },
  {
   "cell_type": "code",
   "execution_count": 74,
   "id": "81f5d2d5",
   "metadata": {},
   "outputs": [
    {
     "data": {
      "text/plain": [
       "(59, 11)"
      ]
     },
     "execution_count": 74,
     "metadata": {},
     "output_type": "execute_result"
    }
   ],
   "source": [
    "validation_labels.shape #59,\n",
    "valid_labels_cat = to_categorical(validation_labels)\n",
    "valid_labels_cat.shape"
   ]
  },
  {
   "cell_type": "code",
   "execution_count": 75,
   "id": "1be2ba86",
   "metadata": {},
   "outputs": [],
   "source": [
    "from keras import models\n",
    "from keras import layers\n",
    "from keras import optimizers\n",
    "model = models.Sequential()\n",
    "model.add(layers.Dense(256, activation='relu', input_dim=4 * 4 * 512))\n",
    "model.add(layers.Dropout(0.5))\n",
    "model.add(layers.Dense(11, activation='softmax'))\n",
    "model.compile(optimizer='adam',loss='categorical_crossentropy',metrics=['acc'])"
   ]
  },
  {
   "cell_type": "code",
   "execution_count": 76,
   "id": "fc8aecc2",
   "metadata": {},
   "outputs": [
    {
     "name": "stdout",
     "output_type": "stream",
     "text": [
      "Epoch 1/30\n",
      "7/7 [==============================] - 1s 45ms/step - loss: 2.9050 - acc: 0.2374 - val_loss: 1.4074 - val_acc: 0.5085\n",
      "Epoch 2/30\n",
      "7/7 [==============================] - 0s 29ms/step - loss: 1.2630 - acc: 0.5755 - val_loss: 0.7615 - val_acc: 0.7797\n",
      "Epoch 3/30\n",
      "7/7 [==============================] - 0s 32ms/step - loss: 0.5553 - acc: 0.8417 - val_loss: 0.7154 - val_acc: 0.7627\n",
      "Epoch 4/30\n",
      "7/7 [==============================] - 0s 28ms/step - loss: 0.3395 - acc: 0.9281 - val_loss: 0.4923 - val_acc: 0.8475\n",
      "Epoch 5/30\n",
      "7/7 [==============================] - 0s 29ms/step - loss: 0.2902 - acc: 0.8921 - val_loss: 0.4130 - val_acc: 0.8305\n",
      "Epoch 6/30\n",
      "7/7 [==============================] - 0s 27ms/step - loss: 0.1523 - acc: 0.9856 - val_loss: 0.3919 - val_acc: 0.8983\n",
      "Epoch 7/30\n",
      "7/7 [==============================] - 0s 28ms/step - loss: 0.1421 - acc: 0.9640 - val_loss: 0.4134 - val_acc: 0.8644\n",
      "Epoch 8/30\n",
      "7/7 [==============================] - 0s 29ms/step - loss: 0.0827 - acc: 0.9856 - val_loss: 0.3131 - val_acc: 0.8814\n",
      "Epoch 9/30\n",
      "7/7 [==============================] - 0s 30ms/step - loss: 0.1076 - acc: 0.9712 - val_loss: 0.2939 - val_acc: 0.8814\n",
      "Epoch 10/30\n",
      "7/7 [==============================] - 0s 32ms/step - loss: 0.0687 - acc: 1.0000 - val_loss: 0.3542 - val_acc: 0.8814\n",
      "Epoch 11/30\n",
      "7/7 [==============================] - 0s 32ms/step - loss: 0.0767 - acc: 0.9856 - val_loss: 0.3204 - val_acc: 0.8983\n",
      "Epoch 12/30\n",
      "7/7 [==============================] - 0s 28ms/step - loss: 0.0341 - acc: 1.0000 - val_loss: 0.2894 - val_acc: 0.8983\n",
      "Epoch 13/30\n",
      "7/7 [==============================] - 0s 30ms/step - loss: 0.0269 - acc: 1.0000 - val_loss: 0.2607 - val_acc: 0.8814\n",
      "Epoch 14/30\n",
      "7/7 [==============================] - 0s 34ms/step - loss: 0.0241 - acc: 1.0000 - val_loss: 0.2586 - val_acc: 0.8814\n",
      "Epoch 15/30\n",
      "7/7 [==============================] - 0s 49ms/step - loss: 0.0267 - acc: 0.9928 - val_loss: 0.2701 - val_acc: 0.8644\n",
      "Epoch 16/30\n",
      "7/7 [==============================] - 0s 33ms/step - loss: 0.0215 - acc: 1.0000 - val_loss: 0.2719 - val_acc: 0.8814\n",
      "Epoch 17/30\n",
      "7/7 [==============================] - 0s 58ms/step - loss: 0.0189 - acc: 1.0000 - val_loss: 0.2472 - val_acc: 0.8983\n",
      "Epoch 18/30\n",
      "7/7 [==============================] - 0s 35ms/step - loss: 0.0167 - acc: 1.0000 - val_loss: 0.2051 - val_acc: 0.9153\n",
      "Epoch 19/30\n",
      "7/7 [==============================] - 0s 31ms/step - loss: 0.0286 - acc: 0.9928 - val_loss: 0.2028 - val_acc: 0.8814\n",
      "Epoch 20/30\n",
      "7/7 [==============================] - 0s 31ms/step - loss: 0.0210 - acc: 0.9928 - val_loss: 0.2638 - val_acc: 0.8644\n",
      "Epoch 21/30\n",
      "7/7 [==============================] - 0s 28ms/step - loss: 0.0110 - acc: 1.0000 - val_loss: 0.2774 - val_acc: 0.8475\n",
      "Epoch 22/30\n",
      "7/7 [==============================] - 0s 31ms/step - loss: 0.0141 - acc: 1.0000 - val_loss: 0.2404 - val_acc: 0.8644\n",
      "Epoch 23/30\n",
      "7/7 [==============================] - 0s 26ms/step - loss: 0.0227 - acc: 0.9928 - val_loss: 0.2332 - val_acc: 0.8814\n",
      "Epoch 24/30\n",
      "7/7 [==============================] - 0s 28ms/step - loss: 0.0125 - acc: 1.0000 - val_loss: 0.2431 - val_acc: 0.9153\n",
      "Epoch 25/30\n",
      "7/7 [==============================] - 0s 26ms/step - loss: 0.0095 - acc: 1.0000 - val_loss: 0.2429 - val_acc: 0.8983\n",
      "Epoch 26/30\n",
      "7/7 [==============================] - 0s 29ms/step - loss: 0.0093 - acc: 1.0000 - val_loss: 0.2457 - val_acc: 0.8983\n",
      "Epoch 27/30\n",
      "7/7 [==============================] - 0s 32ms/step - loss: 0.0096 - acc: 1.0000 - val_loss: 0.2426 - val_acc: 0.8814\n",
      "Epoch 28/30\n",
      "7/7 [==============================] - 0s 34ms/step - loss: 0.0065 - acc: 1.0000 - val_loss: 0.2184 - val_acc: 0.8983\n",
      "Epoch 29/30\n",
      "7/7 [==============================] - 0s 26ms/step - loss: 0.0169 - acc: 1.0000 - val_loss: 0.2424 - val_acc: 0.8814\n",
      "Epoch 30/30\n",
      "7/7 [==============================] - 0s 34ms/step - loss: 0.0158 - acc: 1.0000 - val_loss: 0.2528 - val_acc: 0.8814\n"
     ]
    }
   ],
   "source": [
    "history = model.fit(train_features, train_labels_cat,epochs=30,batch_size=20,\n",
    "                    validation_data=(validation_features, valid_labels_cat))"
   ]
  },
  {
   "cell_type": "code",
   "execution_count": 78,
   "id": "7e0886d8",
   "metadata": {},
   "outputs": [],
   "source": [
    "import matplotlib.pyplot as plt\n",
    "acc = history.history['acc']\n",
    "val_acc = history.history['val_acc']\n",
    "loss = history.history['loss']\n",
    "val_loss = history.history['val_loss']\n",
    "epochs = range(1, len(acc) + 1)"
   ]
  },
  {
   "cell_type": "code",
   "execution_count": 79,
   "id": "b2d8f005",
   "metadata": {},
   "outputs": [
    {
     "data": {
      "text/plain": [
       "<Figure size 432x288 with 0 Axes>"
      ]
     },
     "execution_count": 79,
     "metadata": {},
     "output_type": "execute_result"
    },
    {
     "data": {
      "image/png": "[encoded data removed]",
      "text/plain": [
       "<Figure size 432x288 with 1 Axes>"
      ]
     },
     "metadata": {
      "needs_background": "light"
     },
     "output_type": "display_data"
    },
    {
     "data": {
      "text/plain": [
       "<Figure size 432x288 with 0 Axes>"
      ]
     },
     "metadata": {},
     "output_type": "display_data"
    }
   ],
   "source": [
    "plt.plot(epochs, acc, 'bo', label='Training acc')\n",
    "plt.plot(epochs, val_acc, 'r', label='Validation acc')\n",
    "plt.title('Training and validation accuracy')\n",
    "plt.legend()\n",
    "plt.figure()"
   ]
  },
  {
   "cell_type": "code",
   "execution_count": 80,
   "id": "866d5e25",
   "metadata": {},
   "outputs": [
    {
     "data": {
      "image/png": "[encoded data removed]",
      "text/plain": [
       "<Figure size 432x288 with 1 Axes>"
      ]
     },
     "metadata": {
      "needs_background": "light"
     },
     "output_type": "display_data"
    }
   ],
   "source": [
    "plt.plot(epochs, loss, 'bo', label='Training loss')\n",
    "plt.plot(epochs, val_loss, 'r', label='Validation loss')\n",
    "plt.title('Training and validation loss')\n",
    "plt.legend()\n",
    "plt.show()"
   ]
  }
 ],
 "metadata": {
  "kernelspec": {
   "display_name": "Python 3 (ipykernel)",
   "language": "python",
   "name": "python3"
  },
  "language_info": {
   "codemirror_mode": {
    "name": "ipython",
    "version": 3
   },
   "file_extension": ".py",
   "mimetype": "text/x-python",
   "name": "python",
   "nbconvert_exporter": "python",
   "pygments_lexer": "ipython3",
   "version": "3.9.15"
  }
 },
 "nbformat": 4,
 "nbformat_minor": 5
}
